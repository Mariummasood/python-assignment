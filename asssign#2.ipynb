{
 "cells": [
  {
   "cell_type": "code",
   "execution_count": null,
   "metadata": {},
   "outputs": [],
   "source": [
    "number1=int(input(\"Enter the marks of Urdu\"))\n",
    "number2=int(input(\"Enter the marks of Science\"))\n",
    "number3=int(input(\"Enter the marks of English\"))\n",
    "number4=int(input(\"Enter the marks of Computer\"))\n",
    "number5=int(input(\"Enter the marks of Maths\"))\n",
    "total= (number1 + number2 +number3 +number4+number5)/500\n",
    "if total>90:\n",
    "    print(\"YU HAVE SECURED A+\")\n",
    "elif total<90 and total>80:\n",
    "    print(\"YOU HAVE SECURED A\")\n",
    "elif total<80 and total>70:\n",
    "    print(\"YOU HAVE SECURED B\")\n",
    "elif total<70 and total>60:\n",
    "    print(\"YOU HAVE SECURED C\") \n",
    "elif total<60 and total>50:\n",
    "    print(\"YOU HAVE SECURED D\")  \n",
    "else:\n",
    "    print(\"YOU HAVE FAILED IN EXAM\")\n"
   ]
  },
  {
   "cell_type": "code",
   "execution_count": null,
   "metadata": {},
   "outputs": [],
   "source": [
    "num=int(input(\"Enter the number\"))\n",
    "if (num%2 ==0):\n",
    "    print(\" number is even\")\n",
    "else:\n",
    "    print(\"number is odd\")\n"
   ]
  },
  {
   "cell_type": "code",
   "execution_count": null,
   "metadata": {},
   "outputs": [],
   "source": [
    "numeric=sum([4,34,5,67,10])\n",
    "print(numeric)"
   ]
  },
  {
   "cell_type": "code",
   "execution_count": null,
   "metadata": {},
   "outputs": [],
   "source": [
    "largest=max([4,34,5,67,10])\n",
    "print(largest)"
   ]
  },
  {
   "cell_type": "code",
   "execution_count": null,
   "metadata": {},
   "outputs": [],
   "source": [
    "list=len([\"handkerchief\",\"tissue\",\"honey\",\"cap\",\"bottle\"])\n",
    "print(list)"
   ]
  },
  {
   "cell_type": "code",
   "execution_count": null,
   "metadata": {},
   "outputs": [],
   "source": [
    "list = [1,3,4,2,4,56,67,5, 89]\n",
    "print(\"Number less than 5 are\")\n",
    "for i in list:\n",
    "    if i<5:\n",
    "        print(i)"
   ]
  },
  {
   "cell_type": "code",
   "execution_count": null,
   "metadata": {},
   "outputs": [],
   "source": []
  }
 ],
 "metadata": {
  "kernelspec": {
   "display_name": "Python 3",
   "language": "python",
   "name": "python3"
  },
  "language_info": {
   "codemirror_mode": {
    "name": "ipython",
    "version": 3
   },
   "file_extension": ".py",
   "mimetype": "text/x-python",
   "name": "python",
   "nbconvert_exporter": "python",
   "pygments_lexer": "ipython3",
   "version": "3.7.4"
  }
 },
 "nbformat": 4,
 "nbformat_minor": 2
}
